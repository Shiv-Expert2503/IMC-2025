{
 "cells": [
  {
   "cell_type": "code",
   "execution_count": 1,
   "id": "9c8224e7",
   "metadata": {
    "_cell_guid": "b1076dfc-b9ad-4769-8c92-a6c4dae69d19",
    "_uuid": "8f2839f25d086af736a60e9eeb907d3b93b6e0e5",
    "execution": {
     "iopub.execute_input": "2025-05-10T11:29:30.944128Z",
     "iopub.status.busy": "2025-05-10T11:29:30.943770Z",
     "iopub.status.idle": "2025-05-10T11:29:33.090672Z",
     "shell.execute_reply": "2025-05-10T11:29:33.089610Z"
    },
    "papermill": {
     "duration": 2.154703,
     "end_time": "2025-05-10T11:29:33.092599",
     "exception": false,
     "start_time": "2025-05-10T11:29:30.937896",
     "status": "completed"
    },
    "tags": []
   },
   "outputs": [],
   "source": [
    "import numpy as np # linear algebra\n",
    "import pandas as pd # data processing, CSV file I/O (e.g. pd.read_csv)\n",
    "\n",
    "\n",
    "import os"
   ]
  },
  {
   "cell_type": "code",
   "execution_count": 2,
   "id": "4202b7fb",
   "metadata": {
    "execution": {
     "iopub.execute_input": "2025-05-10T11:29:33.101134Z",
     "iopub.status.busy": "2025-05-10T11:29:33.100642Z",
     "iopub.status.idle": "2025-05-10T11:29:33.108161Z",
     "shell.execute_reply": "2025-05-10T11:29:33.107260Z"
    },
    "papermill": {
     "duration": 0.013479,
     "end_time": "2025-05-10T11:29:33.109827",
     "exception": false,
     "start_time": "2025-05-10T11:29:33.096348",
     "status": "completed"
    },
    "tags": []
   },
   "outputs": [
    {
     "data": {
      "text/plain": [
       "'/kaggle/working'"
      ]
     },
     "execution_count": 2,
     "metadata": {},
     "output_type": "execute_result"
    }
   ],
   "source": [
    "os.getcwd()"
   ]
  },
  {
   "cell_type": "code",
   "execution_count": 3,
   "id": "0d0cda11",
   "metadata": {
    "execution": {
     "iopub.execute_input": "2025-05-10T11:29:33.118733Z",
     "iopub.status.busy": "2025-05-10T11:29:33.118285Z",
     "iopub.status.idle": "2025-05-10T11:29:33.134550Z",
     "shell.execute_reply": "2025-05-10T11:29:33.133476Z"
    },
    "papermill": {
     "duration": 0.023035,
     "end_time": "2025-05-10T11:29:33.136678",
     "exception": false,
     "start_time": "2025-05-10T11:29:33.113643",
     "status": "completed"
    },
    "tags": []
   },
   "outputs": [
    {
     "data": {
      "text/plain": [
       "['sample_submission.csv',\n",
       " 'train_thresholds.csv',\n",
       " 'train_labels.csv',\n",
       " 'test',\n",
       " 'train']"
      ]
     },
     "execution_count": 3,
     "metadata": {},
     "output_type": "execute_result"
    }
   ],
   "source": [
    "os.listdir(\"/kaggle/input/image-matching-challenge-2025\")"
   ]
  },
  {
   "cell_type": "code",
   "execution_count": 4,
   "id": "b2522fad",
   "metadata": {
    "execution": {
     "iopub.execute_input": "2025-05-10T11:29:33.146181Z",
     "iopub.status.busy": "2025-05-10T11:29:33.145139Z",
     "iopub.status.idle": "2025-05-10T11:29:33.191822Z",
     "shell.execute_reply": "2025-05-10T11:29:33.190726Z"
    },
    "papermill": {
     "duration": 0.053227,
     "end_time": "2025-05-10T11:29:33.193697",
     "exception": false,
     "start_time": "2025-05-10T11:29:33.140470",
     "status": "completed"
    },
    "tags": []
   },
   "outputs": [],
   "source": [
    "df1 = pd.read_csv(\"/kaggle/input/image-matching-challenge-2025/train_thresholds.csv\")\n",
    "df2 = pd.read_csv(\"/kaggle/input/image-matching-challenge-2025/train_labels.csv\")"
   ]
  },
  {
   "cell_type": "code",
   "execution_count": 5,
   "id": "61080b43",
   "metadata": {
    "execution": {
     "iopub.execute_input": "2025-05-10T11:29:33.204789Z",
     "iopub.status.busy": "2025-05-10T11:29:33.204424Z",
     "iopub.status.idle": "2025-05-10T11:29:33.230566Z",
     "shell.execute_reply": "2025-05-10T11:29:33.229626Z"
    },
    "papermill": {
     "duration": 0.033378,
     "end_time": "2025-05-10T11:29:33.232625",
     "exception": false,
     "start_time": "2025-05-10T11:29:33.199247",
     "status": "completed"
    },
    "tags": []
   },
   "outputs": [
    {
     "data": {
      "text/html": [
       "<div>\n",
       "<style scoped>\n",
       "    .dataframe tbody tr th:only-of-type {\n",
       "        vertical-align: middle;\n",
       "    }\n",
       "\n",
       "    .dataframe tbody tr th {\n",
       "        vertical-align: top;\n",
       "    }\n",
       "\n",
       "    .dataframe thead th {\n",
       "        text-align: right;\n",
       "    }\n",
       "</style>\n",
       "<table border=\"1\" class=\"dataframe\">\n",
       "  <thead>\n",
       "    <tr style=\"text-align: right;\">\n",
       "      <th></th>\n",
       "      <th>dataset</th>\n",
       "      <th>scene</th>\n",
       "      <th>thresholds</th>\n",
       "    </tr>\n",
       "  </thead>\n",
       "  <tbody>\n",
       "    <tr>\n",
       "      <th>0</th>\n",
       "      <td>amy_gardens</td>\n",
       "      <td>peach</td>\n",
       "      <td>0.01;0.02;0.05;0.1;0.25;0.5</td>\n",
       "    </tr>\n",
       "    <tr>\n",
       "      <th>1</th>\n",
       "      <td>ETs</td>\n",
       "      <td>ET</td>\n",
       "      <td>0.002;0.005;0.008;0.01;0.02;0.04</td>\n",
       "    </tr>\n",
       "    <tr>\n",
       "      <th>2</th>\n",
       "      <td>ETs</td>\n",
       "      <td>another_ET</td>\n",
       "      <td>0.002;0.005;0.008;0.01;0.02;0.04</td>\n",
       "    </tr>\n",
       "    <tr>\n",
       "      <th>3</th>\n",
       "      <td>fbk_vineyard</td>\n",
       "      <td>vineyard_split_1</td>\n",
       "      <td>0.01;0.02;0.05;0.1;0.25;0.5</td>\n",
       "    </tr>\n",
       "    <tr>\n",
       "      <th>4</th>\n",
       "      <td>fbk_vineyard</td>\n",
       "      <td>vineyard_split_2</td>\n",
       "      <td>0.01;0.02;0.05;0.1;0.25;0.5</td>\n",
       "    </tr>\n",
       "  </tbody>\n",
       "</table>\n",
       "</div>"
      ],
      "text/plain": [
       "        dataset             scene                        thresholds\n",
       "0   amy_gardens             peach       0.01;0.02;0.05;0.1;0.25;0.5\n",
       "1           ETs                ET  0.002;0.005;0.008;0.01;0.02;0.04\n",
       "2           ETs        another_ET  0.002;0.005;0.008;0.01;0.02;0.04\n",
       "3  fbk_vineyard  vineyard_split_1       0.01;0.02;0.05;0.1;0.25;0.5\n",
       "4  fbk_vineyard  vineyard_split_2       0.01;0.02;0.05;0.1;0.25;0.5"
      ]
     },
     "execution_count": 5,
     "metadata": {},
     "output_type": "execute_result"
    }
   ],
   "source": [
    "df1.head()"
   ]
  },
  {
   "cell_type": "code",
   "execution_count": 6,
   "id": "3af2d7c0",
   "metadata": {
    "execution": {
     "iopub.execute_input": "2025-05-10T11:29:33.241521Z",
     "iopub.status.busy": "2025-05-10T11:29:33.241181Z",
     "iopub.status.idle": "2025-05-10T11:29:33.252649Z",
     "shell.execute_reply": "2025-05-10T11:29:33.251396Z"
    },
    "papermill": {
     "duration": 0.017828,
     "end_time": "2025-05-10T11:29:33.254290",
     "exception": false,
     "start_time": "2025-05-10T11:29:33.236462",
     "status": "completed"
    },
    "tags": []
   },
   "outputs": [
    {
     "data": {
      "text/html": [
       "<div>\n",
       "<style scoped>\n",
       "    .dataframe tbody tr th:only-of-type {\n",
       "        vertical-align: middle;\n",
       "    }\n",
       "\n",
       "    .dataframe tbody tr th {\n",
       "        vertical-align: top;\n",
       "    }\n",
       "\n",
       "    .dataframe thead th {\n",
       "        text-align: right;\n",
       "    }\n",
       "</style>\n",
       "<table border=\"1\" class=\"dataframe\">\n",
       "  <thead>\n",
       "    <tr style=\"text-align: right;\">\n",
       "      <th></th>\n",
       "      <th>dataset</th>\n",
       "      <th>scene</th>\n",
       "      <th>image</th>\n",
       "      <th>rotation_matrix</th>\n",
       "      <th>translation_vector</th>\n",
       "    </tr>\n",
       "  </thead>\n",
       "  <tbody>\n",
       "    <tr>\n",
       "      <th>0</th>\n",
       "      <td>imc2023_haiper</td>\n",
       "      <td>fountain</td>\n",
       "      <td>fountain_image_116.png</td>\n",
       "      <td>0.122655949;0.947713775;-0.294608417;0.1226706...</td>\n",
       "      <td>0.093771314;-0.803560988;2.062001533</td>\n",
       "    </tr>\n",
       "    <tr>\n",
       "      <th>1</th>\n",
       "      <td>imc2023_haiper</td>\n",
       "      <td>fountain</td>\n",
       "      <td>fountain_image_108.png</td>\n",
       "      <td>0.474305910;0.359108654;-0.803787832;0.2888416...</td>\n",
       "      <td>0.358946647;-0.797557548;1.910906929</td>\n",
       "    </tr>\n",
       "    <tr>\n",
       "      <th>2</th>\n",
       "      <td>imc2023_haiper</td>\n",
       "      <td>fountain</td>\n",
       "      <td>fountain_image_101.png</td>\n",
       "      <td>0.565115476;-0.138485064;-0.813305838;0.506678...</td>\n",
       "      <td>0.146922468;-0.981392596;2.009002852</td>\n",
       "    </tr>\n",
       "    <tr>\n",
       "      <th>3</th>\n",
       "      <td>imc2023_haiper</td>\n",
       "      <td>fountain</td>\n",
       "      <td>fountain_image_082.png</td>\n",
       "      <td>-0.308320392;-0.794654112;0.522937261;0.948141...</td>\n",
       "      <td>0.206413831;-1.174321103;3.667167680</td>\n",
       "    </tr>\n",
       "    <tr>\n",
       "      <th>4</th>\n",
       "      <td>imc2023_haiper</td>\n",
       "      <td>fountain</td>\n",
       "      <td>fountain_image_071.png</td>\n",
       "      <td>-0.569002830;-0.103808175;0.815757098;0.778745...</td>\n",
       "      <td>-0.015140892;-1.334052012;3.488936597</td>\n",
       "    </tr>\n",
       "  </tbody>\n",
       "</table>\n",
       "</div>"
      ],
      "text/plain": [
       "          dataset     scene                   image  \\\n",
       "0  imc2023_haiper  fountain  fountain_image_116.png   \n",
       "1  imc2023_haiper  fountain  fountain_image_108.png   \n",
       "2  imc2023_haiper  fountain  fountain_image_101.png   \n",
       "3  imc2023_haiper  fountain  fountain_image_082.png   \n",
       "4  imc2023_haiper  fountain  fountain_image_071.png   \n",
       "\n",
       "                                     rotation_matrix  \\\n",
       "0  0.122655949;0.947713775;-0.294608417;0.1226706...   \n",
       "1  0.474305910;0.359108654;-0.803787832;0.2888416...   \n",
       "2  0.565115476;-0.138485064;-0.813305838;0.506678...   \n",
       "3  -0.308320392;-0.794654112;0.522937261;0.948141...   \n",
       "4  -0.569002830;-0.103808175;0.815757098;0.778745...   \n",
       "\n",
       "                      translation_vector  \n",
       "0   0.093771314;-0.803560988;2.062001533  \n",
       "1   0.358946647;-0.797557548;1.910906929  \n",
       "2   0.146922468;-0.981392596;2.009002852  \n",
       "3   0.206413831;-1.174321103;3.667167680  \n",
       "4  -0.015140892;-1.334052012;3.488936597  "
      ]
     },
     "execution_count": 6,
     "metadata": {},
     "output_type": "execute_result"
    }
   ],
   "source": [
    "df2.head()"
   ]
  },
  {
   "cell_type": "code",
   "execution_count": 7,
   "id": "24fd92aa",
   "metadata": {
    "execution": {
     "iopub.execute_input": "2025-05-10T11:29:33.263788Z",
     "iopub.status.busy": "2025-05-10T11:29:33.263227Z",
     "iopub.status.idle": "2025-05-10T11:29:33.280187Z",
     "shell.execute_reply": "2025-05-10T11:29:33.279152Z"
    },
    "papermill": {
     "duration": 0.023347,
     "end_time": "2025-05-10T11:29:33.281718",
     "exception": false,
     "start_time": "2025-05-10T11:29:33.258371",
     "status": "completed"
    },
    "tags": []
   },
   "outputs": [
    {
     "data": {
      "text/plain": [
       "dataset\n",
       "pt_brandenburg_british_buckingham    225\n",
       "pt_sacrecoeur_trevi_tajmahal         225\n",
       "imc2024_lizard_pond                  214\n",
       "imc2023_heritage                     209\n",
       "pt_stpeters_stpauls                  200\n",
       "amy_gardens                          200\n",
       "pt_piazzasanmarco_grandplace         168\n",
       "fbk_vineyard                         163\n",
       "imc2024_dioscuri_baalshamin          138\n",
       "imc2023_theather_imc2024_church       76\n",
       "imc2023_haiper                        54\n",
       "stairs                                51\n",
       "ETs                                   22\n",
       "Name: count, dtype: int64"
      ]
     },
     "execution_count": 7,
     "metadata": {},
     "output_type": "execute_result"
    }
   ],
   "source": [
    "l2 = df2['dataset'].value_counts()\n",
    "df2['dataset'].value_counts()"
   ]
  },
  {
   "cell_type": "code",
   "execution_count": 8,
   "id": "da3dbc44",
   "metadata": {
    "execution": {
     "iopub.execute_input": "2025-05-10T11:29:33.291100Z",
     "iopub.status.busy": "2025-05-10T11:29:33.290717Z",
     "iopub.status.idle": "2025-05-10T11:29:33.299945Z",
     "shell.execute_reply": "2025-05-10T11:29:33.298838Z"
    },
    "papermill": {
     "duration": 0.015998,
     "end_time": "2025-05-10T11:29:33.301677",
     "exception": false,
     "start_time": "2025-05-10T11:29:33.285679",
     "status": "completed"
    },
    "tags": []
   },
   "outputs": [
    {
     "data": {
      "text/plain": [
       "dataset\n",
       "fbk_vineyard                         3\n",
       "imc2023_haiper                       3\n",
       "imc2023_heritage                     3\n",
       "pt_brandenburg_british_buckingham    3\n",
       "pt_sacrecoeur_trevi_tajmahal         3\n",
       "ETs                                  2\n",
       "stairs                               2\n",
       "imc2023_theather_imc2024_church      2\n",
       "imc2024_dioscuri_baalshamin          2\n",
       "imc2024_lizard_pond                  2\n",
       "pt_piazzasanmarco_grandplace         2\n",
       "pt_stpeters_stpauls                  2\n",
       "amy_gardens                          1\n",
       "Name: count, dtype: int64"
      ]
     },
     "execution_count": 8,
     "metadata": {},
     "output_type": "execute_result"
    }
   ],
   "source": [
    "l1 = df1['dataset'].value_counts()\n",
    "df1['dataset'].value_counts()"
   ]
  },
  {
   "cell_type": "code",
   "execution_count": 9,
   "id": "8d4a5faa",
   "metadata": {
    "execution": {
     "iopub.execute_input": "2025-05-10T11:29:33.311081Z",
     "iopub.status.busy": "2025-05-10T11:29:33.310753Z",
     "iopub.status.idle": "2025-05-10T11:29:33.316953Z",
     "shell.execute_reply": "2025-05-10T11:29:33.316027Z"
    },
    "papermill": {
     "duration": 0.012539,
     "end_time": "2025-05-10T11:29:33.318425",
     "exception": false,
     "start_time": "2025-05-10T11:29:33.305886",
     "status": "completed"
    },
    "tags": []
   },
   "outputs": [
    {
     "data": {
      "text/plain": [
       "(13, 13)"
      ]
     },
     "execution_count": 9,
     "metadata": {},
     "output_type": "execute_result"
    }
   ],
   "source": [
    "len(l1), len(l2)"
   ]
  },
  {
   "cell_type": "code",
   "execution_count": 10,
   "id": "2fd7590d",
   "metadata": {
    "execution": {
     "iopub.execute_input": "2025-05-10T11:29:33.328743Z",
     "iopub.status.busy": "2025-05-10T11:29:33.328424Z",
     "iopub.status.idle": "2025-05-10T11:29:33.341731Z",
     "shell.execute_reply": "2025-05-10T11:29:33.340747Z"
    },
    "papermill": {
     "duration": 0.020732,
     "end_time": "2025-05-10T11:29:33.343602",
     "exception": false,
     "start_time": "2025-05-10T11:29:33.322870",
     "status": "completed"
    },
    "tags": []
   },
   "outputs": [
    {
     "data": {
      "text/html": [
       "<div>\n",
       "<style scoped>\n",
       "    .dataframe tbody tr th:only-of-type {\n",
       "        vertical-align: middle;\n",
       "    }\n",
       "\n",
       "    .dataframe tbody tr th {\n",
       "        vertical-align: top;\n",
       "    }\n",
       "\n",
       "    .dataframe thead th {\n",
       "        text-align: right;\n",
       "    }\n",
       "</style>\n",
       "<table border=\"1\" class=\"dataframe\">\n",
       "  <thead>\n",
       "    <tr style=\"text-align: right;\">\n",
       "      <th></th>\n",
       "      <th>dataset</th>\n",
       "      <th>scene</th>\n",
       "      <th>thresholds</th>\n",
       "    </tr>\n",
       "  </thead>\n",
       "  <tbody>\n",
       "    <tr>\n",
       "      <th>8</th>\n",
       "      <td>imc2023_haiper</td>\n",
       "      <td>bike</td>\n",
       "      <td>0;0;0.001;0.025;0.05;0.1</td>\n",
       "    </tr>\n",
       "    <tr>\n",
       "      <th>9</th>\n",
       "      <td>imc2023_haiper</td>\n",
       "      <td>chairs</td>\n",
       "      <td>0;0;0.001;0.025;0.05;0.1</td>\n",
       "    </tr>\n",
       "    <tr>\n",
       "      <th>10</th>\n",
       "      <td>imc2023_haiper</td>\n",
       "      <td>fountain</td>\n",
       "      <td>0;0;0.001;0.025;0.05;0.1</td>\n",
       "    </tr>\n",
       "  </tbody>\n",
       "</table>\n",
       "</div>"
      ],
      "text/plain": [
       "           dataset     scene                thresholds\n",
       "8   imc2023_haiper      bike  0;0;0.001;0.025;0.05;0.1\n",
       "9   imc2023_haiper    chairs  0;0;0.001;0.025;0.05;0.1\n",
       "10  imc2023_haiper  fountain  0;0;0.001;0.025;0.05;0.1"
      ]
     },
     "execution_count": 10,
     "metadata": {},
     "output_type": "execute_result"
    }
   ],
   "source": [
    "df1[df1['dataset']==\"imc2023_haiper\"]"
   ]
  },
  {
   "cell_type": "markdown",
   "id": "8200f79b",
   "metadata": {
    "papermill": {
     "duration": 0.004093,
     "end_time": "2025-05-10T11:29:33.352456",
     "exception": false,
     "start_time": "2025-05-10T11:29:33.348363",
     "status": "completed"
    },
    "tags": []
   },
   "source": [
    "# Calcualte the number of images in the train/ETs,stairs,..... and match them with df2"
   ]
  },
  {
   "cell_type": "code",
   "execution_count": 11,
   "id": "879e10fc",
   "metadata": {
    "execution": {
     "iopub.execute_input": "2025-05-10T11:29:33.362440Z",
     "iopub.status.busy": "2025-05-10T11:29:33.362073Z",
     "iopub.status.idle": "2025-05-10T11:29:33.631556Z",
     "shell.execute_reply": "2025-05-10T11:29:33.630472Z"
    },
    "papermill": {
     "duration": 0.276431,
     "end_time": "2025-05-10T11:29:33.633180",
     "exception": false,
     "start_time": "2025-05-10T11:29:33.356749",
     "status": "completed"
    },
    "tags": []
   },
   "outputs": [
    {
     "name": "stdout",
     "output_type": "stream",
     "text": [
      "pt_brandenburg_british_buckingham: 225 images\n",
      "pt_sacrecoeur_trevi_tajmahal: 225 images\n",
      "imc2024_lizard_pond: 214 images\n",
      "imc2023_heritage: 209 images\n",
      "amy_gardens: 200 images\n"
     ]
    }
   ],
   "source": [
    "train_path = '/kaggle/input/image-matching-challenge-2025/train'  # Adjust if the folder name is different\n",
    "image_counts = {}\n",
    "\n",
    "for scene_folder in os.listdir(train_path):\n",
    "    folder_path = os.path.join(train_path, scene_folder)\n",
    "    if os.path.isdir(folder_path):\n",
    "        num_images = len([file for file in os.listdir(folder_path) if file.endswith(('.jpg', '.png', '.jpeg'))])\n",
    "        image_counts[scene_folder] = num_images\n",
    "\n",
    "# Optional: sort by number of images\n",
    "image_counts = dict(sorted(image_counts.items(), key=lambda x: x[1], reverse=True))\n",
    "\n",
    "# Display top 5 as preview\n",
    "for k, v in list(image_counts.items())[:5]:\n",
    "    print(f\"{k}: {v} images\")\n"
   ]
  },
  {
   "cell_type": "code",
   "execution_count": 12,
   "id": "f91fd031",
   "metadata": {
    "execution": {
     "iopub.execute_input": "2025-05-10T11:29:33.643458Z",
     "iopub.status.busy": "2025-05-10T11:29:33.643109Z",
     "iopub.status.idle": "2025-05-10T11:29:33.665314Z",
     "shell.execute_reply": "2025-05-10T11:29:33.664415Z"
    },
    "papermill": {
     "duration": 0.029516,
     "end_time": "2025-05-10T11:29:33.667146",
     "exception": false,
     "start_time": "2025-05-10T11:29:33.637630",
     "status": "completed"
    },
    "tags": []
   },
   "outputs": [],
   "source": [
    "train_path = '/kaggle/input/image-matching-challenge-2025/train' \n",
    "\n",
    "images_count = {}\n",
    "\n",
    "for scene_folder in os.listdir(train_path):\n",
    "    # print(scene_folder)\n",
    "    folder_path = os.path.join(train_path, scene_folder)\n",
    "    if os.path.isdir(folder_path):\n",
    "        \n",
    "        images_count[scene_folder] = len([img for img in os.listdir(folder_path) if img.endswith(('.jpg', '.png', '.jpeg'))])\n"
   ]
  },
  {
   "cell_type": "code",
   "execution_count": 13,
   "id": "0ee33a52",
   "metadata": {
    "execution": {
     "iopub.execute_input": "2025-05-10T11:29:33.680747Z",
     "iopub.status.busy": "2025-05-10T11:29:33.679367Z",
     "iopub.status.idle": "2025-05-10T11:29:33.691178Z",
     "shell.execute_reply": "2025-05-10T11:29:33.688807Z"
    },
    "papermill": {
     "duration": 0.021487,
     "end_time": "2025-05-10T11:29:33.693035",
     "exception": false,
     "start_time": "2025-05-10T11:29:33.671548",
     "status": "completed"
    },
    "tags": []
   },
   "outputs": [
    {
     "data": {
      "text/plain": [
       "[225, 225, 214, 209, 200, 200, 168, 163, 138, 76, 54, 51, 22]"
      ]
     },
     "execution_count": 13,
     "metadata": {},
     "output_type": "execute_result"
    }
   ],
   "source": [
    "df = pd.DataFrame(list(images_count.items()), columns=['Folder', 'Image_Count'])\n",
    "sorted(df[\"Image_Count\"], reverse = True)"
   ]
  },
  {
   "cell_type": "code",
   "execution_count": 14,
   "id": "4eaa0ce1",
   "metadata": {
    "execution": {
     "iopub.execute_input": "2025-05-10T11:29:33.707848Z",
     "iopub.status.busy": "2025-05-10T11:29:33.706837Z",
     "iopub.status.idle": "2025-05-10T11:29:33.721759Z",
     "shell.execute_reply": "2025-05-10T11:29:33.718840Z"
    },
    "papermill": {
     "duration": 0.026995,
     "end_time": "2025-05-10T11:29:33.725570",
     "exception": false,
     "start_time": "2025-05-10T11:29:33.698575",
     "status": "completed"
    },
    "tags": []
   },
   "outputs": [
    {
     "data": {
      "text/plain": [
       "dataset\n",
       "pt_brandenburg_british_buckingham    225\n",
       "pt_sacrecoeur_trevi_tajmahal         225\n",
       "imc2024_lizard_pond                  214\n",
       "imc2023_heritage                     209\n",
       "pt_stpeters_stpauls                  200\n",
       "amy_gardens                          200\n",
       "pt_piazzasanmarco_grandplace         168\n",
       "fbk_vineyard                         163\n",
       "imc2024_dioscuri_baalshamin          138\n",
       "imc2023_theather_imc2024_church       76\n",
       "imc2023_haiper                        54\n",
       "stairs                                51\n",
       "ETs                                   22\n",
       "Name: count, dtype: int64"
      ]
     },
     "execution_count": 14,
     "metadata": {},
     "output_type": "execute_result"
    }
   ],
   "source": [
    "df2['dataset'].value_counts()"
   ]
  },
  {
   "cell_type": "markdown",
   "id": "f9201c68",
   "metadata": {
    "papermill": {
     "duration": 0.007236,
     "end_time": "2025-05-10T11:29:33.741460",
     "exception": false,
     "start_time": "2025-05-10T11:29:33.734224",
     "status": "completed"
    },
    "tags": []
   },
   "source": [
    "## Yes the number of images and their ground truth matches"
   ]
  },
  {
   "cell_type": "code",
   "execution_count": null,
   "id": "27b10db8",
   "metadata": {
    "papermill": {
     "duration": 0.004842,
     "end_time": "2025-05-10T11:29:33.753874",
     "exception": false,
     "start_time": "2025-05-10T11:29:33.749032",
     "status": "completed"
    },
    "tags": []
   },
   "outputs": [],
   "source": []
  }
 ],
 "metadata": {
  "kaggle": {
   "accelerator": "none",
   "dataSources": [
    {
     "databundleVersionId": 11655853,
     "sourceId": 91498,
     "sourceType": "competition"
    }
   ],
   "dockerImageVersionId": 31012,
   "isGpuEnabled": false,
   "isInternetEnabled": true,
   "language": "python",
   "sourceType": "notebook"
  },
  "kernelspec": {
   "display_name": "Python 3",
   "language": "python",
   "name": "python3"
  },
  "language_info": {
   "codemirror_mode": {
    "name": "ipython",
    "version": 3
   },
   "file_extension": ".py",
   "mimetype": "text/x-python",
   "name": "python",
   "nbconvert_exporter": "python",
   "pygments_lexer": "ipython3",
   "version": "3.11.11"
  },
  "papermill": {
   "default_parameters": {},
   "duration": 11.283417,
   "end_time": "2025-05-10T11:29:36.945905",
   "environment_variables": {},
   "exception": null,
   "input_path": "__notebook__.ipynb",
   "output_path": "__notebook__.ipynb",
   "parameters": {},
   "start_time": "2025-05-10T11:29:25.662488",
   "version": "2.6.0"
  }
 },
 "nbformat": 4,
 "nbformat_minor": 5
}
